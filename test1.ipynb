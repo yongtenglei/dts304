{
 "cells": [
  {
   "cell_type": "code",
   "execution_count": 1,
   "id": "237c86d0",
   "metadata": {},
   "outputs": [
    {
     "name": "stdout",
     "output_type": "stream",
     "text": [
      "importing Jupyter notebook from neural_network_back.ipynb\n"
     ]
    }
   ],
   "source": [
    "import Ipynb_importer\n",
    "from neural_network_back import NeuralNetwork, NeuronLayer, Neuron"
   ]
  },
  {
   "cell_type": "code",
   "execution_count": 2,
   "id": "49137eb1",
   "metadata": {},
   "outputs": [],
   "source": [
    "training_sets = [\n",
    "    [[0.1, 0.1], [1, 0]],\n",
    "    [[0.1, 0.2], [0, 1]],\n",
    "]\n",
    "\n",
    "hidden_layer_weights = [0.1, 0.1, 0.2, 0.1]\n",
    "hidden_layer_bias = 1\n",
    "hidden_layer_bias_weight = [0.1, 0.1]\n",
    "\n",
    "output_layer_weights = [0.1, 0.1, 0.1, 0.2]\n",
    "output_layer_bias = 1\n",
    "output_layer_bias_weight = [0.1, 0.1]"
   ]
  },
  {
   "cell_type": "code",
   "execution_count": 3,
   "id": "fb568193",
   "metadata": {},
   "outputs": [
    {
     "name": "stdout",
     "output_type": "stream",
     "text": [
      "---------\n",
      "Inputs: 2\n",
      "---------\n",
      "Hidden Layer\n",
      "Neurons:  2\n",
      "Neuron 0\n",
      "\t Weight:  0.1\n",
      "\t Weight:  0.1\n",
      "\t Bias (weight): 1 (0.1)\n",
      "Neuron 1\n",
      "\t Weight:  0.2\n",
      "\t Weight:  0.1\n",
      "\t Bias (weight): 1 (0.1)\n",
      "---------\n",
      "Output Layer\n",
      "Neurons:  2\n",
      "Neuron 0\n",
      "\t Weight:  0.1\n",
      "\t Weight:  0.1\n",
      "\t Bias (weight): 1 (0.1)\n",
      "Neuron 1\n",
      "\t Weight:  0.1\n",
      "\t Weight:  0.2\n",
      "\t Bias (weight): 1 (0.1)\n",
      "---------\n"
     ]
    }
   ],
   "source": [
    "nn = NeuralNetwork(len(training_sets[0][0]), 2, len(training_sets[0][1]),\n",
    "                   hidden_layer_weights=hidden_layer_weights,\n",
    "                   hidden_layer_bias=hidden_layer_bias,\n",
    "                   hidden_layer_bias_weight=hidden_layer_bias_weight,\n",
    "                   output_layer_weights=output_layer_weights,\n",
    "                   output_layer_bias=output_layer_bias,\n",
    "                   output_layer_bias_weight=output_layer_bias_weight)\n",
    "nn.inspect()"
   ]
  },
  {
   "cell_type": "code",
   "execution_count": 4,
   "id": "c5aa00d5",
   "metadata": {},
   "outputs": [
    {
     "name": "stdout",
     "output_type": "stream",
     "text": [
      "=============feed forward phase==============\n",
      "0.1*0.1+0.1*0.1+1*0.1=0.12000000000000001\n",
      "output:  0.5299640517645717\n",
      "0.1*0.2+0.1*0.1+1*0.1=0.13\n",
      "output:  0.5324543063873187\n",
      "hidden layer outputs:  [0.5299640517645717, 0.5324543063873187]\n",
      "0.5299640517645717*0.1+0.5324543063873187*0.1+1*0.1=0.20624183581518907\n",
      "output:  0.5513784696896066\n",
      "0.5299640517645717*0.1+0.5324543063873187*0.2+1*0.1=0.25948726645392095\n",
      "output:  0.5645102463659317\n",
      "output layer outputs:  [0.5513784696896066, 0.5645102463659317]\n",
      "=============back propagation phase==============\n",
      "output neuron deltas(∂E/∂z_j): \n",
      "\n",
      "\t [-0.110971135172589, 0.13877831162073848]\n",
      "Hidden layer deltas(): \n",
      "\n",
      "\t [0.0006926827594435028, 0.00414709105206644]\n",
      "Update output neuron weights: \n",
      "\n",
      "0.1->0.12940535621248964\n",
      "0.1->0.12954352940366715\n",
      "0.1->0.06322624183821354\n",
      "0.2->0.16305344517218828\n",
      "Update hidden neuron weights: \n",
      "\n",
      "0.1->0.16305344517218828\n",
      "0.1->0.16305344517218828\n",
      "0.2->0.16305344517218828\n",
      "0.1->0.16305344517218828\n"
     ]
    }
   ],
   "source": [
    "nn.train(training_sets[0][0], training_sets[0][1])\n",
    "# print(nn.calculate_total_error(training_sets))"
   ]
  },
  {
   "cell_type": "code",
   "execution_count": null,
   "id": "38e26076",
   "metadata": {},
   "outputs": [],
   "source": []
  },
  {
   "cell_type": "code",
   "execution_count": null,
   "id": "db990024",
   "metadata": {},
   "outputs": [],
   "source": []
  },
  {
   "cell_type": "code",
   "execution_count": null,
   "id": "af363d53",
   "metadata": {},
   "outputs": [],
   "source": []
  },
  {
   "cell_type": "code",
   "execution_count": null,
   "id": "6e6a17f7",
   "metadata": {},
   "outputs": [],
   "source": []
  },
  {
   "cell_type": "code",
   "execution_count": null,
   "id": "7e34d290",
   "metadata": {},
   "outputs": [],
   "source": []
  },
  {
   "cell_type": "code",
   "execution_count": null,
   "id": "4db57a7c",
   "metadata": {},
   "outputs": [],
   "source": []
  },
  {
   "cell_type": "code",
   "execution_count": null,
   "id": "4b7d4013",
   "metadata": {},
   "outputs": [],
   "source": []
  },
  {
   "cell_type": "code",
   "execution_count": null,
   "id": "8d590c77",
   "metadata": {},
   "outputs": [],
   "source": []
  },
  {
   "cell_type": "code",
   "execution_count": null,
   "id": "d2d8b5a4",
   "metadata": {},
   "outputs": [],
   "source": []
  },
  {
   "cell_type": "code",
   "execution_count": null,
   "id": "866ad885",
   "metadata": {},
   "outputs": [],
   "source": []
  },
  {
   "cell_type": "code",
   "execution_count": null,
   "id": "c7adffe3",
   "metadata": {},
   "outputs": [],
   "source": []
  },
  {
   "cell_type": "code",
   "execution_count": null,
   "id": "d399266e",
   "metadata": {},
   "outputs": [],
   "source": []
  },
  {
   "cell_type": "code",
   "execution_count": null,
   "id": "6cd6dd23",
   "metadata": {},
   "outputs": [],
   "source": []
  },
  {
   "cell_type": "code",
   "execution_count": null,
   "id": "e8d6a13b",
   "metadata": {},
   "outputs": [],
   "source": []
  },
  {
   "cell_type": "code",
   "execution_count": null,
   "id": "2d213ea7",
   "metadata": {},
   "outputs": [],
   "source": []
  },
  {
   "cell_type": "code",
   "execution_count": null,
   "id": "e3298917",
   "metadata": {},
   "outputs": [],
   "source": []
  },
  {
   "cell_type": "code",
   "execution_count": null,
   "id": "4a94d031",
   "metadata": {},
   "outputs": [],
   "source": []
  },
  {
   "cell_type": "code",
   "execution_count": null,
   "id": "c36c510e",
   "metadata": {},
   "outputs": [],
   "source": []
  },
  {
   "cell_type": "code",
   "execution_count": null,
   "id": "61e9cecb",
   "metadata": {},
   "outputs": [],
   "source": []
  },
  {
   "cell_type": "code",
   "execution_count": null,
   "id": "8b827e81",
   "metadata": {},
   "outputs": [],
   "source": []
  },
  {
   "cell_type": "code",
   "execution_count": null,
   "id": "7576730e",
   "metadata": {},
   "outputs": [],
   "source": []
  }
 ],
 "metadata": {
  "kernelspec": {
   "display_name": "Python 3 (ipykernel)",
   "language": "python",
   "name": "python3"
  },
  "language_info": {
   "codemirror_mode": {
    "name": "ipython",
    "version": 3
   },
   "file_extension": ".py",
   "mimetype": "text/x-python",
   "name": "python",
   "nbconvert_exporter": "python",
   "pygments_lexer": "ipython3",
   "version": "3.10.10"
  }
 },
 "nbformat": 4,
 "nbformat_minor": 5
}
