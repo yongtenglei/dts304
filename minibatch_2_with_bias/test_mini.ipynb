{
 "cells": [
  {
   "cell_type": "code",
   "execution_count": 1,
   "id": "237c86d0",
   "metadata": {},
   "outputs": [
    {
     "name": "stdout",
     "output_type": "stream",
     "text": [
      "importing Jupyter notebook from neural_network_mini_batch.ipynb\n"
     ]
    }
   ],
   "source": [
    "import Ipynb_importer\n",
    "from neural_network_mini_batch import NeuralNetwork, NeuronLayer, Neuron"
   ]
  },
  {
   "cell_type": "code",
   "execution_count": 2,
   "id": "49137eb1",
   "metadata": {},
   "outputs": [],
   "source": [
    "# training_sets = [\n",
    "#     [[0.1, 0.1], [1, 0]],\n",
    "#     [[0.1, 0.2], [0, 1]],\n",
    "# ]\n",
    "\n",
    "# hidden_layer_weights = [0.1, 0.2, 0.1, 0.1]\n",
    "# hidden_layer_bias = 1\n",
    "# hidden_layer_bias_weight = [0.1, 0.1]\n",
    "\n",
    "# output_layer_weights = [0.1, 0.1, 0.1, 0.2]\n",
    "# output_layer_bias = 1\n",
    "# output_layer_bias_weight = [0.1, 0.1]"
   ]
  },
  {
   "cell_type": "code",
   "execution_count": 3,
   "id": "fb568193",
   "metadata": {},
   "outputs": [],
   "source": [
    "# nn = NeuralNetwork(len(training_sets[0][0]), 2, len(training_sets[0][1]),\n",
    "#                    hidden_layer_weights=hidden_layer_weights,\n",
    "#                    hidden_layer_bias=hidden_layer_bias,\n",
    "#                    hidden_layer_bias_weight=hidden_layer_bias_weight,\n",
    "#                    output_layer_weights=output_layer_weights,\n",
    "#                    output_layer_bias=output_layer_bias,\n",
    "#                    output_layer_bias_weight=output_layer_bias_weight)\n",
    "# nn.inspect()"
   ]
  },
  {
   "cell_type": "code",
   "execution_count": 4,
   "id": "c5aa00d5",
   "metadata": {},
   "outputs": [],
   "source": [
    "# nn.train(training_sets[0][0], training_sets[0][1])\n",
    "# # print(nn.calculate_total_error(training_sets))"
   ]
  },
  {
   "cell_type": "code",
   "execution_count": null,
   "id": "38e26076",
   "metadata": {},
   "outputs": [],
   "source": []
  },
  {
   "cell_type": "code",
   "execution_count": 5,
   "id": "db990024",
   "metadata": {},
   "outputs": [],
   "source": [
    "training_sets = [\n",
    "    [[0.1, 0.1], [1, 0]],\n",
    "    [[0.1, 0.2], [0, 1]],\n",
    "]\n",
    "\n",
    "hidden_layer_weights = [0.1, 0.1, 0.2,  0.1]\n",
    "hidden_layer_bias = 1\n",
    "hidden_layer_bias_weight = [0.1, 0.1]\n",
    "\n",
    "output_layer_weights = [0.1, 0.1, 0.1, 0.2]\n",
    "output_layer_bias = 1\n",
    "output_layer_bias_weight = [0.1, 0.1]"
   ]
  },
  {
   "cell_type": "code",
   "execution_count": 6,
   "id": "8e90f5c2",
   "metadata": {},
   "outputs": [
    {
     "name": "stdout",
     "output_type": "stream",
     "text": [
      "---------\n",
      "Learning rate: 0.1\n",
      "---------\n",
      "Inputs: 2\n",
      "---------\n",
      "Hidden Layer\n",
      "Neurons:  2\n",
      "Neuron 0\n",
      "\t Weight:  0.1\n",
      "\t Weight:  0.1\n",
      "\t Bias (weight): 1 (0.1)\n",
      "Neuron 1\n",
      "\t Weight:  0.2\n",
      "\t Weight:  0.1\n",
      "\t Bias (weight): 1 (0.1)\n",
      "---------\n",
      "Output Layer\n",
      "Neurons:  2\n",
      "Neuron 0\n",
      "\t Weight:  0.1\n",
      "\t Weight:  0.1\n",
      "\t Bias (weight): 1 (0.1)\n",
      "Neuron 1\n",
      "\t Weight:  0.1\n",
      "\t Weight:  0.2\n",
      "\t Bias (weight): 1 (0.1)\n",
      "---------\n"
     ]
    }
   ],
   "source": [
    "nn = NeuralNetwork(len(training_sets[0][0]), 2, len(training_sets[0][1]),\n",
    "                   lr=0.1,\n",
    "                   hidden_layer_weights=hidden_layer_weights,\n",
    "                   hidden_layer_bias=hidden_layer_bias,\n",
    "                   hidden_layer_bias_weight=hidden_layer_bias_weight,\n",
    "                   output_layer_weights=output_layer_weights,\n",
    "                   output_layer_bias=output_layer_bias,\n",
    "                   output_layer_bias_weight=output_layer_bias_weight)\n",
    "nn.inspect()"
   ]
  },
  {
   "cell_type": "code",
   "execution_count": 7,
   "id": "6a2f15b1",
   "metadata": {
    "scrolled": false
   },
   "outputs": [
    {
     "name": "stdout",
     "output_type": "stream",
     "text": [
      "[[0.1, 0.1], [0.1, 0.2]] [[1, 0], [0, 1]]\n",
      "=============feed forward phase==============\n",
      "==calculate_output===\n",
      "for  [0.1, 0.1]\n",
      "0.1*0.1+0.1*0.1+1*0.1=0.12000000000000001\n",
      "output:  0.5299640517645717\n",
      "0.1*0.2+0.1*0.1+1*0.1=0.13\n",
      "output:  0.5324543063873187\n",
      "for  [0.1, 0.2]\n",
      "0.1*0.1+0.2*0.1+1*0.1=0.13\n",
      "output:  0.5324543063873187\n",
      "0.1*0.2+0.2*0.1+1*0.1=0.14\n",
      "output:  0.5349429451582145\n",
      "=====================\n",
      "hidden layer outputs:  [[0.5299640517645717, 0.5324543063873187], [0.5324543063873187, 0.5349429451582145]]\n",
      "==calculate_output===\n",
      "for  [0.5299640517645717, 0.5324543063873187]\n",
      "0.5299640517645717*0.1+0.5324543063873187*0.1+1*0.1=0.20624183581518907\n",
      "output:  0.5513784696896066\n",
      "0.5299640517645717*0.1+0.5324543063873187*0.2+1*0.1=0.25948726645392095\n",
      "output:  0.5645102463659317\n",
      "for  [0.5324543063873187, 0.5349429451582145]\n",
      "0.5324543063873187*0.1+0.5349429451582145*0.1+1*0.1=0.20673972515455333\n",
      "output:  0.5515016245695407\n",
      "0.5324543063873187*0.1+0.5349429451582145*0.2+1*0.1=0.2602340196703748\n",
      "output:  0.5646938181510764\n",
      "=====================\n",
      "output layer outputs:  [[0.5513784696896066, 0.5645102463659317], [0.5515016245695407, 0.5646938181510764]]\n",
      "=============back propagation phase==============\n",
      "output neuron deltas(∂E/∂z_j): \n",
      "\n",
      "-(1-0.5513784696896066) * 0.5513784696896066 * 0.4486215303103934 =  -0.110971135172589\n",
      "-(0-0.5645102463659317) * 0.5645102463659317 * 0.4354897536340683 =  0.13877831162073848\n",
      "finished for  [0.1, 0.1]\n",
      "-(0-0.5515016245695407) * 0.5515016245695407 * 0.44849837543045934 =  0.13641259367403274\n",
      "-(1-0.5646938181510764) * 0.5646938181510764 * 0.43530618184892356 =  -0.10700466280583808\n",
      "finished for  [0.1, 0.2]\n",
      "\t [[-0.110971135172589, 0.13877831162073848], [0.13641259367403274, -0.10700466280583808]]\n",
      "[0.012720729250721874, 0.0158868244074502]\n",
      "Hidden layer deltas(): \n",
      "\n",
      "\n",
      "*************\n",
      "(0.012720729250721874*0.1+(0.0158868244074502*0.1+) * 0.5299640517645717 * 0.47003594823542827 =  0.0007126203282746255\n",
      "\n",
      "*************\n",
      "(0.012720729250721874*0.1+(0.0158868244074502*0.2+) * 0.5324543063873187 * 0.4675456936126813 =  0.0011076729388750724\n",
      "\n",
      "*************\n",
      "(0.012720729250721874*0.1+(0.0158868244074502*0.1+) * 0.5324543063873187 * 0.4675456936126813 =  0.0007121756593122665\n",
      "\n",
      "*************\n",
      "(0.012720729250721874*0.1+(0.0158868244074502*0.2+) * 0.5349429451582145 * 0.4650570548417855 =  0.0011069266461813697\n",
      "\t [[0.0007126203282746255, 0.0011076729388750724], [0.0007121756593122665, 0.0011069266461813697]]\n",
      "[0.000712397993793446, 0.001107299792528221]\n",
      "Update output neuron weights: \n",
      "\n",
      "∂E_j/dw_i: \n",
      "0.012720729250721874 * 0.5299640517645717 +0.012720729250721874 * 0.5324543063873187 + = 0.01351473628504666\n",
      "pd_error_wrt_weight / m = 0.00675736814252333\n",
      "---------------\n",
      "0.1 - 0.1 * 0.00675736814252333 = 0.09932426318574768\n",
      "0.1->0.09932426318574768\n",
      "---------------\n",
      "∂E_j/dw_i: \n",
      "0.012720729250721874 * 0.5324543063873187 +0.012720729250721874 * 0.5349429451582145 + = 0.013578071439875397\n",
      "pd_error_wrt_weight / m = 0.0067890357199376986\n",
      "---------------\n",
      "0.1 - 0.1 * 0.0067890357199376986 = 0.09932109642800624\n",
      "0.1->0.09932109642800624\n",
      "---------------\n",
      "∂E_j/dw_i: \n",
      "0.0158868244074502 * 0.5299640517645717 +0.0158868244074502 * 0.5324543063873187 + = 0.01687845390321062\n",
      "pd_error_wrt_weight / m = 0.00843922695160531\n",
      "---------------\n",
      "0.1 - 0.1 * 0.00843922695160531 = 0.09915607730483947\n",
      "0.1->0.09915607730483947\n",
      "---------------\n",
      "∂E_j/dw_i: \n",
      "0.0158868244074502 * 0.5324543063873187 +0.0158868244074502 * 0.5349429451582145 + = 0.016957552708298837\n",
      "pd_error_wrt_weight / m = 0.008478776354149418\n",
      "---------------\n",
      "0.2 - 0.1 * 0.008478776354149418 = 0.19915212236458507\n",
      "0.2->0.19915212236458507\n",
      "---------------\n",
      "Update output layer bias weights: \n",
      "\n",
      "0.1 - 0.1 * 0.012720729250721874 = 0.09872792707492782\n",
      "bias weight: 0.1 -> 0.09872792707492782\n",
      "0.1 - 0.1 * 0.0158868244074502 = 0.09841131755925499\n",
      "bias weight: 0.1 -> 0.09841131755925499\n",
      "Update hidden neuron weights: \n",
      "\n",
      "∂E_j/dw_i: \n",
      "0.000712397993793446 * 0.1 +0.000712397993793446 * 0.1 + = 0.0001424795987586892\n",
      "pd_error_wrt_weight / m = 7.12397993793446e-05\n",
      "---------------\n",
      "0.1 - 0.1 * 7.12397993793446e-05 = 0.09999287602006207\n",
      "0.1->0.09999287602006207\n",
      "---------------\n",
      "∂E_j/dw_i: \n",
      "0.000712397993793446 * 0.1 +0.000712397993793446 * 0.2 + = 0.00021371939813803382\n",
      "pd_error_wrt_weight / m = 0.00010685969906901691\n",
      "---------------\n",
      "0.1 - 0.1 * 0.00010685969906901691 = 0.0999893140300931\n",
      "0.1->0.0999893140300931\n",
      "---------------\n",
      "∂E_j/dw_i: \n",
      "0.001107299792528221 * 0.1 +0.001107299792528221 * 0.1 + = 0.0002214599585056442\n",
      "pd_error_wrt_weight / m = 0.0001107299792528221\n",
      "---------------\n",
      "0.2 - 0.1 * 0.0001107299792528221 = 0.19998892700207474\n",
      "0.2->0.19998892700207474\n",
      "---------------\n",
      "∂E_j/dw_i: \n",
      "0.001107299792528221 * 0.1 +0.001107299792528221 * 0.2 + = 0.0003321899377584663\n",
      "pd_error_wrt_weight / m = 0.00016609496887923315\n",
      "---------------\n",
      "0.1 - 0.1 * 0.00016609496887923315 = 0.09998339050311209\n",
      "0.1->0.09998339050311209\n",
      "---------------\n",
      "Update hidden layer bias weights: \n",
      "\n",
      "0.1 - 0.1 * 0.000712397993793446 = 0.09992876020062066\n",
      "bias weight: 0.1 -> 0.09992876020062066\n",
      "0.1 - 0.1 * 0.001107299792528221 = 0.09988927002074718\n",
      "bias weight: 0.1 -> 0.09988927002074718\n"
     ]
    }
   ],
   "source": [
    "import random\n",
    "import numpy as np\n",
    "num_epoch = 1\n",
    "for epoch in range(num_epoch):\n",
    "    #     random.shuffle(training_sets)\n",
    "    batch_size = 2\n",
    "    for i in range(0, len(training_sets), batch_size):\n",
    "        training_inputs = []\n",
    "        training_outputs = []\n",
    "        for j in range(i, i+batch_size):\n",
    "            training_inputs.append(training_sets[j][0])\n",
    "            training_outputs.append(training_sets[j][1])\n",
    "#         training_inputs = np.asarray(training_inputs)\n",
    "#         training_outputs = np.asarray(training_outputs)\n",
    "        print(training_inputs, training_outputs)\n",
    "        nn.train(training_inputs, training_outputs)"
   ]
  },
  {
   "cell_type": "code",
   "execution_count": 8,
   "id": "76dbdd9d",
   "metadata": {},
   "outputs": [
    {
     "data": {
      "text/plain": [
       "[[[0.1, 0.1], [1, 0]], [[0.1, 0.2], [0, 1]]]"
      ]
     },
     "execution_count": 8,
     "metadata": {},
     "output_type": "execute_result"
    }
   ],
   "source": [
    "training_sets = [\n",
    "    [[0.1, 0.1], [1, 0]],\n",
    "    [[0.1, 0.2], [0, 1]],\n",
    "]\n",
    "batch_size = 2\n",
    "i = 0\n",
    "training_sets[i:i+batch_size]"
   ]
  },
  {
   "cell_type": "code",
   "execution_count": null,
   "id": "d2ac3160",
   "metadata": {},
   "outputs": [],
   "source": []
  },
  {
   "cell_type": "code",
   "execution_count": 9,
   "id": "af363d53",
   "metadata": {},
   "outputs": [
    {
     "data": {
      "text/plain": [
       "['apple', 'banana', 'cherry']"
      ]
     },
     "execution_count": 9,
     "metadata": {},
     "output_type": "execute_result"
    }
   ],
   "source": [
    "import random\n",
    "mylist = [\"apple\", \"banana\", \"cherry\"]\n",
    "random.shuffle(mylist)\n",
    "mylist"
   ]
  },
  {
   "cell_type": "code",
   "execution_count": 10,
   "id": "6e6a17f7",
   "metadata": {},
   "outputs": [
    {
     "name": "stdout",
     "output_type": "stream",
     "text": [
      "0 1\n",
      "2 3\n",
      "4 5\n",
      "6 7\n",
      "8 9\n"
     ]
    }
   ],
   "source": [
    "for i in range(0, 10, 2):\n",
    "    print(i, i+1)"
   ]
  },
  {
   "cell_type": "code",
   "execution_count": 11,
   "id": "7e34d290",
   "metadata": {},
   "outputs": [
    {
     "data": {
      "text/plain": [
       "[[0, 0], [0, 0]]"
      ]
     },
     "execution_count": 11,
     "metadata": {},
     "output_type": "execute_result"
    }
   ],
   "source": [
    "[[0] * 2]*2"
   ]
  },
  {
   "cell_type": "code",
   "execution_count": null,
   "id": "4db57a7c",
   "metadata": {},
   "outputs": [],
   "source": []
  },
  {
   "cell_type": "code",
   "execution_count": null,
   "id": "4b7d4013",
   "metadata": {},
   "outputs": [],
   "source": []
  },
  {
   "cell_type": "code",
   "execution_count": null,
   "id": "8d590c77",
   "metadata": {},
   "outputs": [],
   "source": []
  },
  {
   "cell_type": "code",
   "execution_count": null,
   "id": "d2d8b5a4",
   "metadata": {},
   "outputs": [],
   "source": []
  },
  {
   "cell_type": "code",
   "execution_count": null,
   "id": "866ad885",
   "metadata": {},
   "outputs": [],
   "source": []
  },
  {
   "cell_type": "code",
   "execution_count": null,
   "id": "c7adffe3",
   "metadata": {},
   "outputs": [],
   "source": []
  },
  {
   "cell_type": "code",
   "execution_count": null,
   "id": "d399266e",
   "metadata": {},
   "outputs": [],
   "source": []
  },
  {
   "cell_type": "code",
   "execution_count": null,
   "id": "6cd6dd23",
   "metadata": {},
   "outputs": [],
   "source": []
  },
  {
   "cell_type": "code",
   "execution_count": null,
   "id": "e8d6a13b",
   "metadata": {},
   "outputs": [],
   "source": []
  },
  {
   "cell_type": "code",
   "execution_count": null,
   "id": "2d213ea7",
   "metadata": {},
   "outputs": [],
   "source": []
  },
  {
   "cell_type": "code",
   "execution_count": null,
   "id": "e3298917",
   "metadata": {},
   "outputs": [],
   "source": []
  },
  {
   "cell_type": "code",
   "execution_count": null,
   "id": "4a94d031",
   "metadata": {},
   "outputs": [],
   "source": []
  },
  {
   "cell_type": "code",
   "execution_count": null,
   "id": "c36c510e",
   "metadata": {},
   "outputs": [],
   "source": []
  },
  {
   "cell_type": "code",
   "execution_count": null,
   "id": "61e9cecb",
   "metadata": {},
   "outputs": [],
   "source": []
  },
  {
   "cell_type": "code",
   "execution_count": null,
   "id": "8b827e81",
   "metadata": {},
   "outputs": [],
   "source": []
  },
  {
   "cell_type": "code",
   "execution_count": null,
   "id": "7576730e",
   "metadata": {},
   "outputs": [],
   "source": []
  }
 ],
 "metadata": {
  "kernelspec": {
   "display_name": "Python 3 (ipykernel)",
   "language": "python",
   "name": "python3"
  },
  "language_info": {
   "codemirror_mode": {
    "name": "ipython",
    "version": 3
   },
   "file_extension": ".py",
   "mimetype": "text/x-python",
   "name": "python",
   "nbconvert_exporter": "python",
   "pygments_lexer": "ipython3",
   "version": "3.10.10"
  }
 },
 "nbformat": 4,
 "nbformat_minor": 5
}
