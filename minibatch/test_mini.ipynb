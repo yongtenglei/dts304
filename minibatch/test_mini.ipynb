{
 "cells": [
  {
   "cell_type": "code",
   "execution_count": 1,
   "id": "237c86d0",
   "metadata": {},
   "outputs": [
    {
     "name": "stdout",
     "output_type": "stream",
     "text": [
      "importing Jupyter notebook from neural_network_mini_batch.ipynb\n"
     ]
    }
   ],
   "source": [
    "import Ipynb_importer\n",
    "from neural_network_mini_batch import NeuralNetwork, NeuronLayer, Neuron"
   ]
  },
  {
   "cell_type": "code",
   "execution_count": 2,
   "id": "49137eb1",
   "metadata": {},
   "outputs": [],
   "source": [
    "# training_sets = [\n",
    "#     [[0.1, 0.1], [1, 0]],\n",
    "#     [[0.1, 0.2], [0, 1]],\n",
    "# ]\n",
    "\n",
    "# hidden_layer_weights = [0.1, 0.2, 0.1, 0.1]\n",
    "# hidden_layer_bias = 1\n",
    "# hidden_layer_bias_weight = [0.1, 0.1]\n",
    "\n",
    "# output_layer_weights = [0.1, 0.1, 0.1, 0.2]\n",
    "# output_layer_bias = 1\n",
    "# output_layer_bias_weight = [0.1, 0.1]"
   ]
  },
  {
   "cell_type": "code",
   "execution_count": 3,
   "id": "fb568193",
   "metadata": {},
   "outputs": [],
   "source": [
    "# nn = NeuralNetwork(len(training_sets[0][0]), 2, len(training_sets[0][1]),\n",
    "#                    hidden_layer_weights=hidden_layer_weights,\n",
    "#                    hidden_layer_bias=hidden_layer_bias,\n",
    "#                    hidden_layer_bias_weight=hidden_layer_bias_weight,\n",
    "#                    output_layer_weights=output_layer_weights,\n",
    "#                    output_layer_bias=output_layer_bias,\n",
    "#                    output_layer_bias_weight=output_layer_bias_weight)\n",
    "# nn.inspect()"
   ]
  },
  {
   "cell_type": "code",
   "execution_count": 4,
   "id": "c5aa00d5",
   "metadata": {},
   "outputs": [],
   "source": [
    "# nn.train(training_sets[0][0], training_sets[0][1])\n",
    "# # print(nn.calculate_total_error(training_sets))"
   ]
  },
  {
   "cell_type": "code",
   "execution_count": null,
   "id": "38e26076",
   "metadata": {},
   "outputs": [],
   "source": []
  },
  {
   "cell_type": "code",
   "execution_count": 5,
   "id": "db990024",
   "metadata": {},
   "outputs": [],
   "source": [
    "training_sets = [\n",
    "    [[0.1, 0.1], [1, 0]],\n",
    "    [[0.1, 0.2], [0, 1]],\n",
    "]\n",
    "\n",
    "hidden_layer_weights = [0.1, 0.1, 0.2,  0.1]\n",
    "hidden_layer_bias = 1\n",
    "hidden_layer_bias_weight = [0.1, 0.1]\n",
    "\n",
    "output_layer_weights = [0.1, 0.1, 0.1, 0.2]\n",
    "output_layer_bias = 1\n",
    "output_layer_bias_weight = [0.1, 0.1]"
   ]
  },
  {
   "cell_type": "code",
   "execution_count": 6,
   "id": "106d74bb",
   "metadata": {},
   "outputs": [
    {
     "name": "stdout",
     "output_type": "stream",
     "text": [
      "---------\n",
      "Learning rate: 0.1\n",
      "---------\n",
      "Inputs: 2\n",
      "---------\n",
      "Hidden Layer\n",
      "Neurons:  2\n",
      "Neuron 0\n",
      "\t Weight:  0.1\n",
      "\t Weight:  0.1\n",
      "\t Bias (weight): 1 (0.1)\n",
      "Neuron 1\n",
      "\t Weight:  0.2\n",
      "\t Weight:  0.1\n",
      "\t Bias (weight): 1 (0.1)\n",
      "---------\n",
      "Output Layer\n",
      "Neurons:  2\n",
      "Neuron 0\n",
      "\t Weight:  0.1\n",
      "\t Weight:  0.1\n",
      "\t Bias (weight): 1 (0.1)\n",
      "Neuron 1\n",
      "\t Weight:  0.1\n",
      "\t Weight:  0.2\n",
      "\t Bias (weight): 1 (0.1)\n",
      "---------\n"
     ]
    }
   ],
   "source": [
    "nn = NeuralNetwork(len(training_sets[0][0]), 2, len(training_sets[0][1]),\n",
    "                   lr=0.1,\n",
    "                   hidden_layer_weights=hidden_layer_weights,\n",
    "                   hidden_layer_bias=hidden_layer_bias,\n",
    "                   hidden_layer_bias_weight=hidden_layer_bias_weight,\n",
    "                   output_layer_weights=output_layer_weights,\n",
    "                   output_layer_bias=output_layer_bias,\n",
    "                   output_layer_bias_weight=output_layer_bias_weight)\n",
    "nn.inspect()"
   ]
  },
  {
   "cell_type": "code",
   "execution_count": 7,
   "id": "5d2c8b94",
   "metadata": {},
   "outputs": [
    {
     "name": "stdout",
     "output_type": "stream",
     "text": [
      "[[0.1, 0.1], [0.1, 0.2]] [[1, 0], [0, 1]]\n",
      "=============feed forward phase==============\n",
      "==calculate_output===\n",
      "for  [0.1, 0.1]\n",
      "0.1*0.1+0.1*0.1+1*0.1=0.12000000000000001\n",
      "output:  0.5299640517645717\n",
      "0.1*0.2+0.1*0.1+1*0.1=0.13\n",
      "output:  0.5324543063873187\n",
      "for  [0.1, 0.2]\n",
      "0.1*0.1+0.2*0.1+1*0.1=0.13\n",
      "output:  0.5324543063873187\n",
      "0.1*0.2+0.2*0.1+1*0.1=0.14\n",
      "output:  0.5349429451582145\n",
      "=====================\n",
      "hidden layer outputs:  [[0.5299640517645717, 0.5324543063873187], [0.5324543063873187, 0.5349429451582145]]\n",
      "==calculate_output===\n",
      "for  [0.5299640517645717, 0.5324543063873187]\n",
      "0.5299640517645717*0.1+0.5324543063873187*0.1+1*0.1=0.20624183581518907\n",
      "output:  0.5513784696896066\n",
      "0.5299640517645717*0.1+0.5324543063873187*0.2+1*0.1=0.25948726645392095\n",
      "output:  0.5645102463659317\n",
      "for  [0.5324543063873187, 0.5349429451582145]\n",
      "0.5324543063873187*0.1+0.5349429451582145*0.1+1*0.1=0.20673972515455333\n",
      "output:  0.5515016245695407\n",
      "0.5324543063873187*0.1+0.5349429451582145*0.2+1*0.1=0.2602340196703748\n",
      "output:  0.5646938181510764\n",
      "=====================\n",
      "output layer outputs:  [[0.5513784696896066, 0.5645102463659317], [0.5515016245695407, 0.5646938181510764]]\n",
      "=============back propagation phase==============\n",
      "output neuron deltas(∂E/∂z_j): \n",
      "\n"
     ]
    },
    {
     "ename": "AttributeError",
     "evalue": "'Neuron' object has no attribute 'output'",
     "output_type": "error",
     "traceback": [
      "\u001b[0;31m---------------------------------------------------------------------------\u001b[0m",
      "\u001b[0;31mAttributeError\u001b[0m                            Traceback (most recent call last)",
      "Cell \u001b[0;32mIn [7], line 16\u001b[0m\n\u001b[1;32m     13\u001b[0m \u001b[38;5;66;03m#         training_inputs = np.asarray(training_inputs)\u001b[39;00m\n\u001b[1;32m     14\u001b[0m \u001b[38;5;66;03m#         training_outputs = np.asarray(training_outputs)\u001b[39;00m\n\u001b[1;32m     15\u001b[0m         \u001b[38;5;28mprint\u001b[39m(training_inputs, training_outputs)\n\u001b[0;32m---> 16\u001b[0m         \u001b[43mnn\u001b[49m\u001b[38;5;241;43m.\u001b[39;49m\u001b[43mtrain\u001b[49m\u001b[43m(\u001b[49m\u001b[43mtraining_inputs\u001b[49m\u001b[43m,\u001b[49m\u001b[43m \u001b[49m\u001b[43mtraining_outputs\u001b[49m\u001b[43m)\u001b[49m\n",
      "File \u001b[0;32m<string>:76\u001b[0m, in \u001b[0;36mtrain\u001b[0;34m(self, training_inputs, training_outputs)\u001b[0m\n",
      "File \u001b[0;32m<string>:55\u001b[0m, in \u001b[0;36mcalculate_pd_error_wrt_total_net_input\u001b[0;34m(self, target_output)\u001b[0m\n",
      "File \u001b[0;32m<string>:61\u001b[0m, in \u001b[0;36mcalculate_pd_error_wrt_output\u001b[0;34m(self, target_output)\u001b[0m\n",
      "\u001b[0;31mAttributeError\u001b[0m: 'Neuron' object has no attribute 'output'"
     ]
    }
   ],
   "source": [
    "import random\n",
    "import numpy as np\n",
    "num_epoch = 1\n",
    "for epoch in range(num_epoch):\n",
    "    #     random.shuffle(training_sets)\n",
    "    batch_size = 2\n",
    "    for i in range(0, len(training_sets), batch_size):\n",
    "        training_inputs = []\n",
    "        training_outputs = []\n",
    "        for j in range(i, i+batch_size):\n",
    "            training_inputs.append(training_sets[j][0])\n",
    "            training_outputs.append(training_sets[j][1])\n",
    "#         training_inputs = np.asarray(training_inputs)\n",
    "#         training_outputs = np.asarray(training_outputs)\n",
    "        print(training_inputs, training_outputs)\n",
    "        nn.train(training_inputs, training_outputs)"
   ]
  },
  {
   "cell_type": "code",
   "execution_count": null,
   "id": "969a8cf2",
   "metadata": {},
   "outputs": [],
   "source": [
    "training_sets = [\n",
    "    [[0.1, 0.1], [1, 0]],\n",
    "    [[0.1, 0.2], [0, 1]],\n",
    "]\n",
    "batch_size = 2\n",
    "i = 0\n",
    "training_sets[i:i+batch_size]"
   ]
  },
  {
   "cell_type": "code",
   "execution_count": null,
   "id": "1ac5e468",
   "metadata": {},
   "outputs": [],
   "source": []
  },
  {
   "cell_type": "code",
   "execution_count": null,
   "id": "af363d53",
   "metadata": {},
   "outputs": [],
   "source": [
    "import random\n",
    "mylist = [\"apple\", \"banana\", \"cherry\"]\n",
    "random.shuffle(mylist)\n",
    "mylist"
   ]
  },
  {
   "cell_type": "code",
   "execution_count": null,
   "id": "6e6a17f7",
   "metadata": {},
   "outputs": [],
   "source": [
    "for i in range(0, 10, 2):\n",
    "    print(i, i+1)"
   ]
  },
  {
   "cell_type": "code",
   "execution_count": null,
   "id": "7e34d290",
   "metadata": {},
   "outputs": [],
   "source": [
    "[[0] * 2]*2"
   ]
  },
  {
   "cell_type": "code",
   "execution_count": null,
   "id": "4db57a7c",
   "metadata": {},
   "outputs": [],
   "source": []
  },
  {
   "cell_type": "code",
   "execution_count": null,
   "id": "4b7d4013",
   "metadata": {},
   "outputs": [],
   "source": []
  },
  {
   "cell_type": "code",
   "execution_count": null,
   "id": "8d590c77",
   "metadata": {},
   "outputs": [],
   "source": []
  },
  {
   "cell_type": "code",
   "execution_count": null,
   "id": "d2d8b5a4",
   "metadata": {},
   "outputs": [],
   "source": []
  },
  {
   "cell_type": "code",
   "execution_count": null,
   "id": "866ad885",
   "metadata": {},
   "outputs": [],
   "source": []
  },
  {
   "cell_type": "code",
   "execution_count": null,
   "id": "c7adffe3",
   "metadata": {},
   "outputs": [],
   "source": []
  },
  {
   "cell_type": "code",
   "execution_count": null,
   "id": "d399266e",
   "metadata": {},
   "outputs": [],
   "source": []
  },
  {
   "cell_type": "code",
   "execution_count": null,
   "id": "6cd6dd23",
   "metadata": {},
   "outputs": [],
   "source": []
  },
  {
   "cell_type": "code",
   "execution_count": null,
   "id": "e8d6a13b",
   "metadata": {},
   "outputs": [],
   "source": []
  },
  {
   "cell_type": "code",
   "execution_count": null,
   "id": "2d213ea7",
   "metadata": {},
   "outputs": [],
   "source": []
  },
  {
   "cell_type": "code",
   "execution_count": null,
   "id": "e3298917",
   "metadata": {},
   "outputs": [],
   "source": []
  },
  {
   "cell_type": "code",
   "execution_count": null,
   "id": "4a94d031",
   "metadata": {},
   "outputs": [],
   "source": []
  },
  {
   "cell_type": "code",
   "execution_count": null,
   "id": "c36c510e",
   "metadata": {},
   "outputs": [],
   "source": []
  },
  {
   "cell_type": "code",
   "execution_count": null,
   "id": "61e9cecb",
   "metadata": {},
   "outputs": [],
   "source": []
  },
  {
   "cell_type": "code",
   "execution_count": null,
   "id": "8b827e81",
   "metadata": {},
   "outputs": [],
   "source": []
  },
  {
   "cell_type": "code",
   "execution_count": null,
   "id": "7576730e",
   "metadata": {},
   "outputs": [],
   "source": []
  }
 ],
 "metadata": {
  "kernelspec": {
   "display_name": "Python 3 (ipykernel)",
   "language": "python",
   "name": "python3"
  },
  "language_info": {
   "codemirror_mode": {
    "name": "ipython",
    "version": 3
   },
   "file_extension": ".py",
   "mimetype": "text/x-python",
   "name": "python",
   "nbconvert_exporter": "python",
   "pygments_lexer": "ipython3",
   "version": "3.10.10"
  }
 },
 "nbformat": 4,
 "nbformat_minor": 5
}
